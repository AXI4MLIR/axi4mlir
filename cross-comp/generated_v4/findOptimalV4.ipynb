{
 "cells": [
  {
   "cell_type": "code",
   "execution_count": 1,
   "metadata": {},
   "outputs": [],
   "source": [
    "import math\n",
    "import numpy as np\n",
    "import sys\n",
    "from itertools import product\n",
    "\n",
    "# Size of matrices\n",
    "M = 16\n",
    "K = 64\n",
    "N = 512\n",
    "\n",
    "M = 256\n",
    "K = 64\n",
    "N = 512\n",
    "\n",
    "# Size of buffers\n",
    "A_buffer_size = 4096\n",
    "B_buffer_size = 4096\n",
    "C_buffer_size = 4096\n"
   ]
  },
  {
   "cell_type": "code",
   "execution_count": 2,
   "metadata": {},
   "outputs": [],
   "source": [
    "tile_M = 16\n",
    "tile_N = 16\n",
    "tile_K = 16"
   ]
  },
  {
   "cell_type": "code",
   "execution_count": 3,
   "metadata": {},
   "outputs": [],
   "source": [
    "def create_matrices(M, N, K):\n",
    "    \"\"\"\n",
    "    Creates matrices A and B.\n",
    "    M: integer representing the number of rows of A\n",
    "    N: integer representing the number of columns of B\n",
    "    K: integer representing the number of columns of A and rows of B\n",
    "    returns: two NumPy arrays representing the matrices A and B\n",
    "    \"\"\"\n",
    "    A = np.zeros((M, K))\n",
    "    B = np.zeros((K, N))\n",
    "\n",
    "    for i in range(M):\n",
    "        A[i, :] = i\n",
    "\n",
    "    for j in range(N):\n",
    "        B[:, j] = j\n",
    "\n",
    "    return A, B\n"
   ]
  },
  {
   "cell_type": "code",
   "execution_count": 26,
   "metadata": {},
   "outputs": [],
   "source": [
    "def a_stationary_matmul(A, B, tile_M, tile_K, tile_N):\n",
    "    \"\"\"\n",
    "    Performs A-stationary matrix multiplication on matrices A and B and returns the result as an int32 NumPy array.\n",
    "    A: a NumPy array representing the matrix A with size MxK\n",
    "    B: a NumPy array representing the matrix B with size KxN\n",
    "    tile_M: integer representing the size of the tiles in the first dimension (M)\n",
    "    tile_K: integer representing the size of the tiles in the second dimension (K)\n",
    "    tile_N: integer representing the size of the tiles in the third dimension (N)\n",
    "    \"\"\"\n",
    "    M, K = A.shape\n",
    "    K, N = B.shape\n",
    "    C = np.zeros((M, N))\n",
    "    C_tile = np.zeros((tile_M, tile_N))\n",
    "\n",
    "    num_accesses_A = 0\n",
    "    num_accesses_B = 0\n",
    "    num_accesses_C = 0\n",
    "\n",
    "    for i in range(0, M, tile_M):\n",
    "        for k in range(0, K, tile_K):\n",
    "            A_tile = A[i:i+tile_M, k:k+tile_K]\n",
    "            num_accesses_A += A_tile.size\n",
    "            for j in range(0, N, tile_N):\n",
    "                C_tile.fill(0)  # Reset C_tile to all zeros for each new tile of C\n",
    "                B_tile = B[k:k+tile_K, j:j+tile_N]\n",
    "                num_accesses_B += B_tile.size\n",
    "                C_tile += np.matmul(A_tile, B_tile)\n",
    "                num_accesses_C += C_tile.size\n",
    "                C[i:i+tile_M, j:j+tile_N] += C_tile\n",
    "\n",
    "    return C, num_accesses_A, num_accesses_B, num_accesses_C"
   ]
  },
  {
   "cell_type": "code",
   "execution_count": 5,
   "metadata": {},
   "outputs": [],
   "source": [
    "def b_stationary_matmul(A, B, tile_M, tile_K, tile_N):\n",
    "    \"\"\"\n",
    "    Performs B-stationary matrix multiplication on matrices A and B and returns the result as an int32 NumPy array.\n",
    "    A: a NumPy array representing the matrix A with size MxK\n",
    "    B: a NumPy array representing the matrix B with size KxN\n",
    "    tile_M: integer representing the size of the tiles in the first dimension (M)\n",
    "    tile_K: integer representing the size of the tiles in the second dimension (K)\n",
    "    tile_N: integer representing the size of the tiles in the third dimension (N)\n",
    "    \"\"\"\n",
    "    M, K = A.shape\n",
    "    K, N = B.shape\n",
    "    C = np.zeros((M, N))\n",
    "    C_tile = np.zeros((tile_M, tile_N))\n",
    "    \n",
    "    num_accesses_A = 0\n",
    "    num_accesses_B = 0\n",
    "    num_accesses_C = 0\n",
    "\n",
    "    for k in range(0, K, tile_K):\n",
    "        for j in range(0, N, tile_N):\n",
    "            B_tile = B[k:k+tile_K, j:j+tile_N]\n",
    "            num_accesses_B += B_tile.size\n",
    "            for i in range(0, M, tile_M):\n",
    "                C_tile.fill(0)  # Reset C_tile to all zeros for each new tile of C\n",
    "                A_tile = A[i:i+tile_M, k:k+tile_K]\n",
    "                num_accesses_A += A_tile.size\n",
    "                C_tile += np.matmul(A_tile, B_tile)\n",
    "                num_accesses_C += C_tile.size\n",
    "                C[i:i+tile_M, j:j+tile_N] += C_tile\n",
    "\n",
    "    return C, num_accesses_A, num_accesses_B, num_accesses_C\n",
    "    "
   ]
  },
  {
   "cell_type": "code",
   "execution_count": 6,
   "metadata": {},
   "outputs": [],
   "source": [
    "def c_stationary_matmul(A, B, tile_M, tile_K, tile_N):\n",
    "    \"\"\"\n",
    "    Performs C-stationary matrix multiplication on matrices A and B and returns the result as an int32 NumPy array.\n",
    "    A: a NumPy array representing the matrix A with size MxK\n",
    "    B: a NumPy array representing the matrix B with size KxN\n",
    "    tile_M: integer representing the size of the tiles in the first dimension (M)\n",
    "    tile_K: integer representing the size of the tiles in the second dimension (K)\n",
    "    tile_N: integer representing the size of the tiles in the third dimension (N)\n",
    "    \"\"\"\n",
    "    M, K = A.shape\n",
    "    K, N = B.shape\n",
    "    C = np.zeros((M, N))\n",
    "    C_tile = np.zeros((tile_M, tile_N))\n",
    "\n",
    "    num_accesses_A = 0\n",
    "    num_accesses_B = 0\n",
    "    num_accesses_C = 0\n",
    "\n",
    "    for i in range(0, M, tile_M):\n",
    "        for j in range(0, N, tile_N):\n",
    "            C_tile.fill(0)  # Reset C_tile to all zeros for each new tile of C\n",
    "            for k in range(0, K, tile_K):\n",
    "                A_tile = A[i:i+tile_M, k:k+tile_K]\n",
    "                num_accesses_A += A_tile.size\n",
    "                B_tile = B[k:k+tile_K, j:j+tile_N]\n",
    "                num_accesses_B += B_tile.size\n",
    "                C_tile += np.matmul(A_tile, B_tile)\n",
    "            num_accesses_C += C_tile.size\n",
    "            C[i:i+tile_M, j:j+tile_N] += C_tile\n",
    "\n",
    "    return C, num_accesses_A, num_accesses_B, num_accesses_C"
   ]
  },
  {
   "cell_type": "code",
   "execution_count": 7,
   "metadata": {},
   "outputs": [],
   "source": [
    "def a_stationary_num_accesses(M, N, K, tile_M, tile_K, tile_N):\n",
    "    num_tiles_A = math.ceil(M / tile_M) * math.ceil(K / tile_K)\n",
    "    num_tiles_B = math.ceil(K / tile_K) * math.ceil(N / tile_N) * math.ceil(M / tile_M)\n",
    "    num_tiles_C = math.ceil(M / tile_M) * math.ceil(N / tile_N) * math.ceil(K / tile_K)\n",
    "\n",
    "    num_accesses_A = num_tiles_A * tile_M * tile_K\n",
    "    num_accesses_B = num_tiles_B * tile_K * tile_N\n",
    "    num_accesses_C = num_tiles_C * tile_M * tile_N\n",
    "\n",
    "    return num_accesses_A, num_accesses_B, num_accesses_C"
   ]
  },
  {
   "cell_type": "code",
   "execution_count": 8,
   "metadata": {},
   "outputs": [],
   "source": [
    "def b_stationary_num_accesses(M, N, K, tile_M, tile_K, tile_N):\n",
    "    num_tiles_A = math.ceil(K / tile_K) * math.ceil(M / tile_M) * math.ceil(N / tile_N)\n",
    "    num_tiles_B = math.ceil(K / tile_K) * math.ceil(N / tile_N)\n",
    "    num_tiles_C = math.ceil(M / tile_M) * math.ceil(N / tile_N) * math.ceil(K / tile_K)\n",
    "\n",
    "    num_accesses_A = num_tiles_A * tile_M * tile_K\n",
    "    num_accesses_B = num_tiles_B * tile_K * tile_N\n",
    "    num_accesses_C = num_tiles_C * tile_M * tile_N\n",
    "\n",
    "    return num_accesses_A, num_accesses_B, num_accesses_C"
   ]
  },
  {
   "cell_type": "code",
   "execution_count": 9,
   "metadata": {},
   "outputs": [],
   "source": [
    "def c_stationary_num_accesses(M, N, K, tile_M, tile_K, tile_N):\n",
    "    num_tiles_A = math.ceil(K / tile_K) * math.ceil(M / tile_M) * math.ceil(N / tile_N)\n",
    "    num_tiles_B = math.ceil(K / tile_K) * math.ceil(N / tile_N) * math.ceil(M / tile_M)\n",
    "    num_tiles_C = math.ceil(M / tile_M) * math.ceil(N / tile_N)\n",
    "\n",
    "    num_accesses_A = num_tiles_A * tile_M * tile_K\n",
    "    num_accesses_B = num_tiles_B * tile_K * tile_N\n",
    "    num_accesses_C = num_tiles_C * tile_M * tile_N\n",
    "    return num_accesses_A, num_accesses_B, num_accesses_C"
   ]
  },
  {
   "cell_type": "code",
   "execution_count": 10,
   "metadata": {},
   "outputs": [],
   "source": [
    "def print_best(outputs):\n",
    "    least = sys.maxsize\n",
    "    min_index = 0\n",
    "    for i,data in enumerate(outputs):\n",
    "        if data[7] < least:\n",
    "            least = data[7]\n",
    "            min_index = i\n",
    "\n",
    "    bests = []\n",
    "    for i,data in enumerate(outputs):\n",
    "        if data[7] == least:\n",
    "            bests.append(data)\n",
    "    return bests"
   ]
  },
  {
   "cell_type": "code",
   "execution_count": 22,
   "metadata": {},
   "outputs": [
    {
     "name": "stdout",
     "output_type": "stream",
     "text": [
      "A accesses:  131072\n",
      "B accesses:  524288\n",
      "C accesses:  524288\n",
      "A accesses:  131072\n",
      "B accesses:  524288\n",
      "C accesses:  524288\n"
     ]
    }
   ],
   "source": [
    "A,B = create_matrices(M,N,K)\n",
    "(output,a,b,c) = a_stationary_matmul(A,B,tile_M,tile_K,tile_N)\n",
    "print(\"A accesses: \", a)\n",
    "print(\"B accesses: \", b)\n",
    "print(\"C accesses: \", c)\n",
    "\n",
    "(a,b,c) = a_stationary_num_accesses(M,N,K,tile_M,tile_K,tile_N)\n",
    "print(\"A accesses: \", a)\n",
    "print(\"B accesses: \", b)\n",
    "print(\"C accesses: \", c)"
   ]
  },
  {
   "cell_type": "code",
   "execution_count": 29,
   "metadata": {},
   "outputs": [
    {
     "name": "stdout",
     "output_type": "stream",
     "text": [
      "A accesses:  512\n",
      "B accesses:  2048\n",
      "C accesses:  2048\n",
      "A accesses:  131072\n",
      "B accesses:  131072\n",
      "C accesses:  2097152\n"
     ]
    }
   ],
   "source": [
    "M = 512\n",
    "N = 64\n",
    "K = 256\n",
    "tile_M = 64\n",
    "tile_N = 16\n",
    "tile_K = 4\n",
    "\n",
    "A,B = create_matrices(M,N,K)\n",
    "(output,a,b,c) = a_stationary_matmul(A,B,tile_M,tile_K,tile_N)\n",
    "print(\"A accesses: \", a)\n",
    "print(\"B accesses: \", b)\n",
    "print(\"C accesses: \", c)\n",
    "\n",
    "(a,b,c) = a_stationary_num_accesses(M,N,K,tile_M,tile_K,tile_N)\n",
    "print(\"A accesses: \", a)\n",
    "print(\"B accesses: \", b)\n",
    "print(\"C accesses: \", c)"
   ]
  },
  {
   "cell_type": "code",
   "execution_count": 30,
   "metadata": {},
   "outputs": [
    {
     "name": "stdout",
     "output_type": "stream",
     "text": [
      "A accesses:  2048\n",
      "B accesses:  2048\n",
      "C accesses:  2048\n",
      "A accesses:  131072\n",
      "B accesses:  524288\n",
      "C accesses:  2097152\n"
     ]
    }
   ],
   "source": [
    "M = 512\n",
    "N = 64\n",
    "K = 256\n",
    "tile_M = 16\n",
    "tile_N = 64\n",
    "tile_K = 4\n",
    "\n",
    "A,B = create_matrices(M,N,K)\n",
    "(output,a,b,c) = a_stationary_matmul(A,B,tile_M,tile_K,tile_N)\n",
    "print(\"A accesses: \", a)\n",
    "print(\"B accesses: \", b)\n",
    "print(\"C accesses: \", c)\n",
    "\n",
    "(a,b,c) = a_stationary_num_accesses(M,N,K,tile_M,tile_K,tile_N)\n",
    "print(\"A accesses: \", a)\n",
    "print(\"B accesses: \", b)\n",
    "print(\"C accesses: \", c)"
   ]
  },
  {
   "cell_type": "code",
   "execution_count": 12,
   "metadata": {},
   "outputs": [],
   "source": [
    "tile_sizes = [16, 32]\n",
    "max_tile_size = 64\n",
    "\n",
    "num_runs = len(tile_sizes) ** 3\n",
    "outputs2 = []\n",
    "\n",
    "count = 0\n",
    "for tile_M, tile_K, tile_N in product(tile_sizes, repeat=3):\n",
    "    if tile_N * tile_K <= max_tile_size ** 2 and tile_M * tile_K <= max_tile_size ** 2 and tile_N * tile_M <= max_tile_size ** 2:\n",
    "\n",
    "        num_accesses_A, num_accesses_B, num_accesses_C =  a_stationary_num_accesses(M,N,K,tile_M,tile_K,tile_N)\n",
    "        outputs2.append([\"A\",tile_M, tile_K, tile_N,num_accesses_A, num_accesses_B, num_accesses_C])\n",
    "\n",
    "        num_accesses_A, num_accesses_B, num_accesses_C =  b_stationary_num_accesses(M,N,K,tile_M,tile_K,tile_N)\n",
    "        outputs2.append([\"B\",tile_M, tile_K, tile_N,num_accesses_A, num_accesses_B, num_accesses_C])\n",
    "\n",
    "        num_accesses_A, num_accesses_B, num_accesses_C =  c_stationary_num_accesses(M,N,K,tile_M,tile_K,tile_N)\n",
    "        outputs2.append([\"C\",tile_M, tile_K, tile_N,num_accesses_A, num_accesses_B, num_accesses_C])\n",
    "\n",
    "        count += 1\n",
    "\n",
    "\n",
    "\n",
    "\n",
    "# for i,j in zip(outputs,outputs2):\n",
    "#     print(j)"
   ]
  },
  {
   "cell_type": "code",
   "execution_count": 13,
   "metadata": {},
   "outputs": [],
   "source": [
    "M = 2048\n",
    "K = 512\n",
    "N = 128\n",
    "\n",
    "# Size of buffers\n",
    "tile_sizes = [i  for i in range(16,257,16)]\n",
    "\n",
    "def get_access_count(M,N,K,tile_sizes):\n",
    "    A_buffer_size = 4096\n",
    "    B_buffer_size = 4096\n",
    "    C_buffer_size = 4096\n",
    "    outputs = []\n",
    "    count = 0\n",
    "    print(\"For problem size: \", M, N, K, \" and buffer sizes: \", A_buffer_size, B_buffer_size, C_buffer_size)\n",
    "    for tile_M, tile_K, tile_N in product(tile_sizes, repeat=3):\n",
    "        if tile_N * tile_K <= A_buffer_size and tile_M * tile_K <= B_buffer_size and tile_N * tile_M <= C_buffer_size:\n",
    "            num_accesses_A, num_accesses_B, num_accesses_C =  a_stationary_num_accesses(M,N,K,tile_M,tile_K,tile_N)\n",
    "            sum_accesses = num_accesses_A + num_accesses_B + num_accesses_C\n",
    "            outputs.append([\"A\",tile_M, tile_K, tile_N,num_accesses_A, num_accesses_B, num_accesses_C,sum_accesses])\n",
    "            num_accesses_A, num_accesses_B, num_accesses_C =  b_stationary_num_accesses(M,N,K,tile_M,tile_K,tile_N)\n",
    "            sum_accesses = num_accesses_A + num_accesses_B + num_accesses_C\n",
    "            outputs.append([\"B\",tile_M, tile_K, tile_N,num_accesses_A, num_accesses_B, num_accesses_C,sum_accesses])\n",
    "            num_accesses_A, num_accesses_B, num_accesses_C =  c_stationary_num_accesses(M,N,K,tile_M,tile_K,tile_N)\n",
    "            sum_accesses = num_accesses_A + num_accesses_B + num_accesses_C\n",
    "            outputs.append([\"C\",tile_M, tile_K, tile_N,num_accesses_A, num_accesses_B, num_accesses_C,sum_accesses])\n",
    "            count += 1\n",
    "\n",
    "    b=print_best(outputs)\n",
    "    for i in b:\n",
    "        print(i)"
   ]
  },
  {
   "cell_type": "code",
   "execution_count": 14,
   "metadata": {},
   "outputs": [
    {
     "name": "stdout",
     "output_type": "stream",
     "text": [
      "For problem size:  16 512 2048  and buffer sizes:  4096 4096 4096\n",
      "['C', 16, 16, 256, 65536, 1048576, 8192, 1122304]\n",
      "For problem size:  64 512 512  and buffer sizes:  4096 4096 4096\n",
      "['C', 64, 16, 64, 262144, 262144, 32768, 557056]\n",
      "['C', 64, 32, 64, 262144, 262144, 32768, 557056]\n",
      "['A', 64, 64, 16, 32768, 262144, 262144, 557056]\n",
      "['A', 64, 64, 32, 32768, 262144, 262144, 557056]\n",
      "['A', 64, 64, 64, 32768, 262144, 262144, 557056]\n",
      "['C', 64, 64, 64, 262144, 262144, 32768, 557056]\n"
     ]
    }
   ],
   "source": [
    "dims = [[16,512,2048],[64,512,512]]\n",
    "tile_sizes = [i  for i in range(16,257,16)]\n",
    "\n",
    "for dim in dims:\n",
    "    M = dim[0]\n",
    "    N = dim[1]\n",
    "    K = dim[2]\n",
    "    get_access_count(M,N,K,tile_sizes)\n"
   ]
  },
  {
   "cell_type": "code",
   "execution_count": null,
   "metadata": {},
   "outputs": [],
   "source": []
  }
 ],
 "metadata": {
  "kernelspec": {
   "display_name": "bench",
   "language": "python",
   "name": "python3"
  },
  "language_info": {
   "codemirror_mode": {
    "name": "ipython",
    "version": 3
   },
   "file_extension": ".py",
   "mimetype": "text/x-python",
   "name": "python",
   "nbconvert_exporter": "python",
   "pygments_lexer": "ipython3",
   "version": "3.11.2"
  },
  "orig_nbformat": 4
 },
 "nbformat": 4,
 "nbformat_minor": 2
}
