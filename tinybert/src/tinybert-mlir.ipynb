{
 "cells": [
  {
   "cell_type": "code",
   "execution_count": 1,
   "metadata": {},
   "outputs": [
    {
     "name": "stderr",
     "output_type": "stream",
     "text": [
      "/home/developer/miniconda3/envs/torch-mlir/lib/python3.11/site-packages/tqdm/auto.py:21: TqdmWarning: IProgress not found. Please update jupyter and ipywidgets. See https://ipywidgets.readthedocs.io/en/stable/user_install.html\n",
      "  from .autonotebook import tqdm as notebook_tqdm\n",
      "Some weights of the model checkpoint at prajjwal1/bert-tiny were not used when initializing BertForMaskedLM: ['cls.seq_relationship.weight', 'cls.seq_relationship.bias']\n",
      "- This IS expected if you are initializing BertForMaskedLM from the checkpoint of a model trained on another task or with another architecture (e.g. initializing a BertForSequenceClassification model from a BertForPreTraining model).\n",
      "- This IS NOT expected if you are initializing BertForMaskedLM from the checkpoint of a model that you expect to be exactly identical (initializing a BertForSequenceClassification model from a BertForSequenceClassification model).\n"
     ]
    },
    {
     "name": "stdout",
     "output_type": "stream",
     "text": [
      "tiny bert successfully written into ../output/tinybert-linalg_on_tensors.mlir\n"
     ]
    }
   ],
   "source": [
    "import torch\n",
    "import torch_mlir\n",
    "\n",
    "from transformers import BertForMaskedLM\n",
    "\n",
    "# Wrap the bert model to avoid multiple returns problem\n",
    "\n",
    "\n",
    "class BertTinyWrapper(torch.nn.Module):\n",
    "    def __init__(self) -> None:\n",
    "        super().__init__()\n",
    "        self.bert = BertForMaskedLM.from_pretrained(\n",
    "            \"prajjwal1/bert-tiny\", return_dict=False)\n",
    "\n",
    "    def forward(self, data):\n",
    "        return self.bert(data)[0]\n",
    "\n",
    "\n",
    "model = BertTinyWrapper()\n",
    "model.eval()\n",
    "data = torch.randint(30522, (2, 128))\n",
    "out_mlir_path = \"../output/tinybert-linalg_on_tensors.mlir\"\n",
    "\n",
    "# for MHLO\n",
    "#module = torch_mlir.compile(model, data, output_type=torch_mlir.OutputType.MHLO, use_tracing=True)\n",
    "\n",
    "# for linalg on tensors\n",
    "module = torch_mlir.compile(\n",
    "    model, data, output_type=\"linalg-on-tensors\", use_tracing=True)\n",
    "with open(out_mlir_path, \"w\", encoding=\"utf-8\") as outf:\n",
    "    outf.write(str(module))\n",
    "\n",
    "print(f\"tiny bert successfully written into {out_mlir_path}\")\n"
   ]
  },
  {
   "cell_type": "code",
   "execution_count": 54,
   "metadata": {},
   "outputs": [],
   "source": [
    "# edit the file manually\n",
    "!cp ../output/tinybert-linalg_on_tensors.mlir ../output/tinybert-linalg_on_tensors-edit.mlir\n",
    "\n",
    "# the file has a line that contains \"ml_program.global\"\n",
    "# remove the line\n",
    "!sed - i '/ml_program.global/d' ../output/tinybert-linalg_on_tensors-edit.mlir\n"
   ]
  },
  {
   "cell_type": "code",
   "execution_count": 51,
   "metadata": {},
   "outputs": [],
   "source": [
    "# Lowering to LLVM\n",
    "# !mlir-opt -convert-linalg-to-loops -convert-scf-to-std\n",
    "# fmt: off\n",
    "# !/working_dir/builds/llvm-project/build-x86/bin/mlir-opt \\\n",
    "!/home/developer/mlir/clang+llvm-16.0.0-x86_64-linux-gnu-ubuntu-18.04/bin/mlir-opt \\\n",
    "    --canonicalize \\\n",
    "    -convert-tensor-to-linalg \\\n",
    "    -empty-tensor-to-alloc-tensor \\\n",
    "    -eliminate-empty-tensors \\\n",
    "    -linalg-bufferize -arith-bufferize \\\n",
    "    -tensor-bufferize -func-bufferize \\\n",
    "    -finalizing-bufferize -buffer-deallocation \\\n",
    "    --buffer-results-to-out-params \\\n",
    "    --canonicalize -cse \\\n",
    "    -convert-linalg-to-loops \\\n",
    "    -convert-scf-to-cf \\\n",
    "    -convert-linalg-to-llvm \\\n",
    "    -lower-affine \\\n",
    "    -convert-scf-to-cf \\\n",
    "    --convert-memref-to-llvm \\\n",
    "    -convert-linalg-to-loops \\\n",
    "    -convert-scf-to-cf \\\n",
    "    -convert-linalg-to-llvm \\\n",
    "    -convert-memref-to-llvm \\\n",
    "    -convert-arith-to-llvm \\\n",
    "    -convert-math-to-llvm \\\n",
    "    --convert-math-to-libm \\\n",
    "    --canonicalize \\\n",
    "    -convert-func-to-llvm \\\n",
    "    -convert-cf-to-llvm \\\n",
    "    --test-lower-to-llvm \\\n",
    "    -reconcile-unrealized-casts \\\n",
    "    -o ../output/tinybert-llvm.mlir \\\n",
    "    ../output/tinybert-linalg_on_tensors-edit.mlir\n"
   ]
  },
  {
   "cell_type": "code",
   "execution_count": 55,
   "metadata": {},
   "outputs": [],
   "source": [
    "#fmt: off\n",
    "!/home/developer/mlir/clang+llvm-16.0.0-x86_64-linux-gnu-ubuntu-18.04/bin/mlir-translate \\\n",
    "    --mlir-to-llvmir \\\n",
    "    ../output/tinybert-llvm.mlir \\\n",
    "    -o ../output/tinybert.ll\n",
    "# fmt: on\n"
   ]
  },
  {
   "cell_type": "code",
   "execution_count": 71,
   "metadata": {},
   "outputs": [
    {
     "name": "stdout",
     "output_type": "stream",
     "text": [
      "\u001b[0;1;35mwarning: \u001b[0m\u001b[1moverriding the module target triple with x86_64-unknown-linux-gnu [-Woverride-module]\u001b[0m\n",
      "1 warning generated.\n"
     ]
    }
   ],
   "source": [
    "#fmt: off\n",
    "# To compile and run:\n",
    "!/home/developer/mlir/clang+llvm-16.0.0-x86_64-linux-gnu-ubuntu-18.04/bin/clang -O3 -c ../output/tinybert.ll -o ../output/tinybert.o\n"
   ]
  },
  {
   "cell_type": "code",
   "execution_count": 56,
   "metadata": {},
   "outputs": [],
   "source": [
    "# The llvm file has a function called forward() which is the entry point\n",
    "# for the model.\n",
    "\n",
    "# The function has a signature like this:\n",
    "# func.func @forward(%arg0: tensor<2x128xi64>) -> tensor<2x128x30522xf32> {\n",
    "\n",
    "# It can be called from C/C++ code like this:\n",
    "#   forward((int *)arg0, (int *)arg0, 0, 2, 128, 128, 1);\n"
   ]
  },
  {
   "cell_type": "code",
   "execution_count": 89,
   "metadata": {},
   "outputs": [
    {
     "name": "stdout",
     "output_type": "stream",
     "text": [
      "Overwriting ../output/tinybert.c\n"
     ]
    }
   ],
   "source": [
    "%%writefile ../output/tinybert.c\n",
    "\n",
    "# include <stdio.h>\n",
    "# include <stdlib.h>\n",
    "# include <string.h>\n",
    "# include <time.h>\n",
    "\n",
    "# include \"tinybert.h\"\n",
    "\n",
    "int main(int argc, char ** argv) {\n",
    "    int * arg0 = (int *)malloc(2 * 128 * sizeof(int));\n",
    "    int * arg1 = (int *)malloc(2 * 128 * 30522 * sizeof(int));\n",
    "\n",
    "    // time the execution\n",
    "    clock_t start, end;\n",
    "    double cpu_time_used;\n",
    "    start = clock();\n",
    "    forward(arg0, arg0, 0, 2, 128, 128, 1,\n",
    "            arg1, arg1, 0, 2, 128, 30522, 128*30522, 30522, 1);\n",
    "    end = clock();\n",
    "    cpu_time_used = ((double)(end - start)) / CLOCKS_PER_SEC;\n",
    "    printf(\"Time taken: %f seconds\\n\", cpu_time_used);\n",
    "\n",
    "    // free the memory\n",
    "    free(arg0);\n",
    "\n",
    "    return 0;\n",
    "}\n"
   ]
  },
  {
   "cell_type": "code",
   "execution_count": 90,
   "metadata": {},
   "outputs": [
    {
     "name": "stdout",
     "output_type": "stream",
     "text": [
      "Overwriting ../output/tinybert.h\n"
     ]
    }
   ],
   "source": [
    "%%writefile ../output/tinybert.h\n",
    "\n",
    "# ifndef TINYBERT_H\n",
    "# define TINYBERT_H\n",
    "\n",
    "void forward(int * arg0, int * arg1, int arg2, int arg3, int arg4, int arg5, int arg6,\n",
    "             int * arg7, int * arg8, int arg9, \n",
    "\t                int arg10, int arg11, int arg12, \n",
    "\t\t\tint arg13, int arg14, int arg15);\n",
    "\n",
    "# endif\n"
   ]
  },
  {
   "cell_type": "code",
   "execution_count": 97,
   "metadata": {},
   "outputs": [],
   "source": [
    "\n",
    "!clang -O3 -lm -L/home/developer/mlir/clang+llvm-16.0.0-x86_64-linux-gnu-ubuntu-18.04/lib -lmlir_runner_utils -lmlir_c_runner_utils ../output/tinybert.o ../output/tinybert.c -o ../output/tinybert\n",
    "#!../output/tinybert\n"
   ]
  },
  {
   "cell_type": "code",
   "execution_count": 98,
   "metadata": {},
   "outputs": [
    {
     "name": "stdout",
     "output_type": "stream",
     "text": [
      "Time taken: 0.918280 seconds\n",
      "Time taken: 0.906604 seconds\n",
      "Time taken: 0.941662 seconds\n",
      "Time taken: 0.900323 seconds\n",
      "Time taken: 0.895246 seconds\n"
     ]
    }
   ],
   "source": [
    "for i in range(5):\n",
    "  !LD_LIBRARY_PATH=/home/developer/mlir/clang+llvm-16.0.0-x86_64-linux-gnu-ubuntu-18.04/lib ../output/tinybert\n"
   ]
  },
  {
   "cell_type": "code",
   "execution_count": null,
   "metadata": {},
   "outputs": [],
   "source": []
  }
 ],
 "metadata": {
  "kernelspec": {
   "display_name": "torch-mlir",
   "language": "python",
   "name": "python3"
  },
  "language_info": {
   "codemirror_mode": {
    "name": "ipython",
    "version": 3
   },
   "file_extension": ".py",
   "mimetype": "text/x-python",
   "name": "python",
   "nbconvert_exporter": "python",
   "pygments_lexer": "ipython3",
   "version": "3.11.2"
  },
  "orig_nbformat": 4
 },
 "nbformat": 4,
 "nbformat_minor": 2
}
